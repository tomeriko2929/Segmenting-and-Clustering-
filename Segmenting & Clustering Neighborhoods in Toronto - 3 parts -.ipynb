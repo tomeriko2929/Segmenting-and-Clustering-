{
 "cells": [
  {
   "cell_type": "code",
   "execution_count": null,
   "metadata": {},
   "outputs": [],
   "source": "#1\nimport wikipedia as wp\nimport pandas as pd \n\nimport requests\nimport io\n\nhtml = wp.page(\"List of postal codes of Canada: M\").html().encode(\"UTF-8\")\n\ndf = pd.read_html(html, header = 0)[0]\n\ndf = df[df.Borough != 'Not assigned']\n\ndf = df.groupby(['Postcode', 'Borough'])['Neighbourhood'].apply(list).apply(lambda x:', '.join(x)).to_frame().reset_index()\n\nfor index, row in df.iterrows():\n    if row['Neighbourhood'] == 'Not assigned':\n        row['Neighbourhood'] = row['Borough']\n\nurl=\"http://cocl.us/Geospatial_data\"\ns=requests.get(url).content\nc=pd.read_csv(io.StringIO(s.decode('utf-8')))\n\nc.columns = ['Postcode', 'Latitude', 'Longitude']\ndf = pd.merge(c, df, on='Postcode')\n\ndf = df[['Postcode', 'Borough', 'Neighbourhood', 'Latitude', 'Longitude']]\ndf"
  },
  {
   "cell_type": "code",
   "execution_count": null,
   "metadata": {},
   "outputs": [],
   "source": "#2\nimport pandas as pd \nimport wikipedia as wp\nfrom bs4 import BeautifulSoup\n\nhtml = wp.page(\"List of postal codes of Canada: M\").html().encode(\"UTF-8\")\n\ndf = pd.read_html(html, header = 0)[0]\n\ndf = df[df.Borough != 'Not assigned']\n\ndf = df.groupby(['Postcode', 'Borough'])['Neighbourhood'].apply(list).apply(lambda x:', '.join(x)).to_frame().reset_index()\n\nfor index, row in df.iterrows():\n    if row['Neighbourhood'] == 'Not assigned':\n        row['Neighbourhood'] = row['Borough']\n\ndf"
  },
  {
   "cell_type": "code",
   "execution_count": null,
   "metadata": {},
   "outputs": [],
   "source": "#3\n%matplotlib inline\n\nimport wikipedia as wp\nimport pandas as pd \n\nimport requests\nimport io\n\nfrom shapely.geometry import Point\nimport geopandas as gpd\nimport matplotlib.pyplot as plt\n\nhtml = wp.page(\"List of postal codes of Canada: M\").html().encode(\"UTF-8\")\n\ndf = pd.read_html(html, header = 0)[0]\n\ndf = df[df.Borough != 'Not assigned']\n\ndf = df.groupby(['Postcode', 'Borough'])['Neighbourhood'].apply(list).apply(lambda x:', '.join(x)).to_frame().reset_index()\n\nfor index, row in df.iterrows():\n    if row['Neighbourhood'] == 'Not assigned':\n        row['Neighbourhood'] = row['Borough']\n\nurl=\"http://cocl.us/Geospatial_data\"\ns=requests.get(url).content\nc=pd.read_csv(io.StringIO(s.decode('utf-8')))\n\nc.columns = ['Postcode', 'Latitude', 'Longitude']\ndf = pd.merge(c, df, on='Postcode')\n\ndf = df[['Postcode', 'Borough', 'Neighbourhood', 'Latitude', 'Longitude']]\n\ndf['Coordinates'] = list(zip(df.Longitude, df.Latitude))\ndf['Coordinates'] = df['Coordinates'].apply(Point)\ngdf = gpd.GeoDataFrame(df, geometry='Coordinates')\n\ncities = gpd.read_file(gpd.datasets.get_path('naturalearth_cities'))\nax = cities[cities.name == \"Toronto\"].plot(\n    color='white', edgecolor='black')\n\ngdf.plot(ax=ax, color='red')\nplt.show()"
  },
  {
   "cell_type": "code",
   "execution_count": null,
   "metadata": {},
   "outputs": [],
   "source": ""
  }
 ],
 "metadata": {
  "kernelspec": {
   "display_name": "Python 2",
   "language": "python",
   "name": "python2"
  },
  "language_info": {
   "codemirror_mode": {
    "name": "ipython",
    "version": 2
   },
   "file_extension": ".py",
   "mimetype": "text/x-python",
   "name": "python",
   "nbconvert_exporter": "python",
   "pygments_lexer": "ipython2",
   "version": "2.7.15+"
  }
 },
 "nbformat": 4,
 "nbformat_minor": 4
}
